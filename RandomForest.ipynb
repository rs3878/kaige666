{
 "cells": [
  {
   "cell_type": "code",
   "execution_count": null,
   "metadata": {
    "_cell_guid": "b1076dfc-b9ad-4769-8c92-a6c4dae69d19",
    "_uuid": "8f2839f25d086af736a60e9eeb907d3b93b6e0e5"
   },
   "outputs": [],
   "source": [
    "# This Python 3 environment comes with many helpful analytics libraries installed\n",
    "# It is defined by the kaggle/python docker image: https://github.com/kaggle/docker-python\n",
    "# For example, here's several helpful packages to load in \n",
    "\n",
    "import numpy as np\n",
    "import pandas as pd\n",
    "from sklearn.model_selection import cross_validate\n",
    "from sklearn.metrics import make_scorer\n",
    "from xgboost import XGBClassifier as XGB\n",
    "from xgboost import XGBRegressor as XGBR\n",
    "from lightgbm import LGBMClassifier as LGBM\n",
    "from lightgbm import LGBMRegressor as LGBMR\n",
    "from pprint import pprint\n",
    "from sklearn.model_selection import cross_validate\n",
    "from sklearn.model_selection import GridSearchCV\n",
    "from sklearn.model_selection import ShuffleSplit\n",
    "from sklearn import model_selection\n",
    "from sklearn.ensemble import RandomForestClassifier\n",
    "from sklearn.datasets import make_classification\n",
    "from sklearn.metrics import make_scorer\n",
    "from evaluate import get_score\n",
    "import pandas as pd\n",
    "import numpy as np\n",
    "from sklearn.model_selection import train_test_split\n",
    "\n",
    "# Input data files are available in the \"../input/\" directory.\n",
    "# For example, running this (by clicking run or pressing Shift+Enter) will list the files in the input directory\n",
    "\n",
    "import os\n",
    "print(os.listdir(\"../input\"))\n",
    "\n",
    "# Any results you write to the current directory are saved as output."
   ]
  },
  {
   "cell_type": "markdown",
   "metadata": {
    "_uuid": "d7708962ae90363be381918c356227bb9d24c40e"
   },
   "source": [
    "# Helper Functions"
   ]
  },
  {
   "cell_type": "code",
   "execution_count": null,
   "metadata": {
    "_uuid": "49fbe35b783a54f6d79bf6fe337a021c115d81bc"
   },
   "outputs": [],
   "source": [
    "def get_score(y, predicted):\n",
    "    N = 5\n",
    "    W = np.zeros((N,N))\n",
    "    O = np.zeros((N,N))\n",
    "    E = np.zeros((N,N))\n",
    "    for i in range(N):\n",
    "        for j in range(N):\n",
    "            W[i,j] = (np.square(i-j)) / (np.square(N-1))\n",
    "    for i in range(len(y)):\n",
    "        O[y[i],predicted[i]] += 1\n",
    "        E[y[i],y[i]] +=1\n",
    "    total = np.sum(E)\n",
    "    EE = np.zeros((N,N))\n",
    "    for i in range(N):\n",
    "        for j in range(N):\n",
    "            EE[i,j] = E[i,i]/total*E[j,j]\n",
    "    result = 1-np.sum(W*O)/np.sum(W*EE)\n",
    "    return result"
   ]
  },
  {
   "cell_type": "markdown",
   "metadata": {
    "_uuid": "302c783ddec189d42df90e1faed72b45d2ff1777"
   },
   "source": [
    "# Preparation"
   ]
  },
  {
   "cell_type": "code",
   "execution_count": null,
   "metadata": {
    "_uuid": "ff2dc2076c86c916c0cd3798340aebec6ea97e59"
   },
   "outputs": [],
   "source": [
    "train = pd.read_csv('../input/train/train.csv')\n",
    "train = train.drop(columns = ['Name', 'RescuerID', 'PetID', 'Description'])\n",
    "train = train[np.logical_not(np.logical_and(train['Breed1'] == 0, train['Breed2'] != 0))]\n",
    "\n",
    "X = train\n",
    "N = len(X)\n",
    "\n",
    "for i in range(N):\n",
    "    if X.iloc[i]['Quantity']>1:\n",
    "        for index in  range(int(X.iloc[i]['Quantity'])):\n",
    "            X = X.append(X.iloc[i])\n",
    "X_breed1 = pd.get_dummies(X['Breed1'])\n",
    "for i in range(308):\n",
    "    if i not in X_breed1.columns:\n",
    "        X_breed1[float(i)] = 0\n",
    "X_breed2 = pd.get_dummies(X['Breed2'])\n",
    "for i in range(308):\n",
    "    if i not in X_breed2.columns:\n",
    "        X_breed2[float(i)] = 0\n",
    "X_breed = X_breed1 + X_breed2\n",
    "X_breed = X_breed.drop(columns=[0.0])\n",
    "X_full =  pd.concat([X,X_breed], axis=1)\n",
    "X_full = X_full.drop(columns = ['Breed1','Breed2','Quantity'])\n",
    "\n",
    "train = X_full\n",
    "\n",
    "train_x = train.drop(columns = ['AdoptionSpeed'])\n",
    "train_y = train['AdoptionSpeed']"
   ]
  },
  {
   "cell_type": "code",
   "execution_count": null,
   "metadata": {
    "_uuid": "b9c906073f09693685b46db67a1748729eda4930"
   },
   "outputs": [],
   "source": [
    "test = pd.read_csv('../input/test/test.csv')\n",
    "test_x = test.drop(columns = ['Name', 'RescuerID', 'PetID', 'Description','Quantity'])\n",
    "\n",
    "X = test_x\n",
    "\n",
    "X_breed1 = pd.get_dummies(X['Breed1'])\n",
    "for i in range(308):\n",
    "    if i not in X_breed1.columns:\n",
    "        X_breed1[float(i)] = 0\n",
    "X_breed2 = pd.get_dummies(X['Breed2'])\n",
    "for i in range(308):\n",
    "    if i not in X_breed2.columns:\n",
    "        X_breed2[float(i)] = 0\n",
    "X_breed = X_breed1 + X_breed2\n",
    "X_breed = X_breed.drop(columns=[0.0])\n",
    "X_full =  pd.concat([X,X_breed], axis=1)\n",
    "X_full = X_full.drop(columns = ['Breed1','Breed2'])\n",
    "\n",
    "test_x = X_full\n",
    "\n",
    "pet_id = test['PetID']"
   ]
  },
  {
   "cell_type": "code",
   "execution_count": null,
   "metadata": {
    "_uuid": "c6c626864a400c73a18d9da4f4bd5635d40ed609"
   },
   "outputs": [],
   "source": [
    "scorer = make_scorer(get_score, greater_is_better = True)"
   ]
  },
  {
   "cell_type": "markdown",
   "metadata": {
    "_uuid": "3b10c1fec38fb00964122662000e493ff6f6833e"
   },
   "source": [
    "# Fitting"
   ]
  },
  {
   "cell_type": "code",
   "execution_count": null,
   "metadata": {
    "_uuid": "5d59a241c79999c51469ec11ba7112ef74ffcd08"
   },
   "outputs": [],
   "source": [
    "clf = RandomForestClassifier(n_estimators=100, max_depth=20,\n",
    "                                 random_state=0, oob_score= True)\n",
    "clf.fit(train_x, train_y)"
   ]
  },
  {
   "cell_type": "markdown",
   "metadata": {
    "_uuid": "b331145c36a1e5f62760c9447a6f5b1260ebaf6c"
   },
   "source": [
    "# Prediction"
   ]
  },
  {
   "cell_type": "code",
   "execution_count": null,
   "metadata": {
    "_uuid": "36a3315f9bb9ca2459441411a7544939354a5d56"
   },
   "outputs": [],
   "source": [
    "predict = clf.predict(test_x)\n",
    "predict = predict.astype(int)\n",
    "result = pd.DataFrame({'PetID': pet_id, 'AdoptionSpeed': predict})"
   ]
  },
  {
   "cell_type": "code",
   "execution_count": null,
   "metadata": {
    "_uuid": "888b5b8fb8e4d67037b6da64ff33cdb0b88e496c"
   },
   "outputs": [],
   "source": [
    "result.to_csv('submission.csv', index = False)"
   ]
  },
  {
   "cell_type": "code",
   "execution_count": null,
   "metadata": {
    "_uuid": "545059bc22b2923569d750929d5b7ac3cd28533c"
   },
   "outputs": [],
   "source": []
  }
 ],
 "metadata": {
  "kernelspec": {
   "display_name": "Python 3",
   "language": "python",
   "name": "python3"
  },
  "language_info": {
   "codemirror_mode": {
    "name": "ipython",
    "version": 3
   },
   "file_extension": ".py",
   "mimetype": "text/x-python",
   "name": "python",
   "nbconvert_exporter": "python",
   "pygments_lexer": "ipython3",
   "version": "3.6.8"
  }
 },
 "nbformat": 4,
 "nbformat_minor": 1
}
