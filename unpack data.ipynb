{
 "cells": [
  {
   "cell_type": "code",
   "execution_count": 1,
   "metadata": {},
   "outputs": [],
   "source": [
    "import pandas as pd\n",
    "import numpy as np\n",
    "from sklearn.model_selection import train_test_split"
   ]
  },
  {
   "cell_type": "code",
   "execution_count": 2,
   "metadata": {},
   "outputs": [],
   "source": [
    "data = pd.read_csv(\"data/clean_train.csv\")\n",
    "X = data\n",
    "N = len(X)"
   ]
  },
  {
   "cell_type": "code",
   "execution_count": 40,
   "metadata": {},
   "outputs": [],
   "source": [
    "# replicate rows for packs\n",
    "for i in range(N):\n",
    "    if X.iloc[i]['Quantity']>1:\n",
    "        for index in  range(int(X.iloc[i]['Quantity'])):\n",
    "            X = X.append(X.iloc[i])"
   ]
  },
  {
   "cell_type": "code",
   "execution_count": null,
   "metadata": {},
   "outputs": [],
   "source": [
    "# dummies for breeds\n",
    "X_breed1 = pd.get_dummies(X['Breed1'])\n",
    "for i in range(308):\n",
    "    if i not in X_breed1.columns:\n",
    "        X_breed1[float(i)] = 0\n",
    "        \n",
    "X_breed2 = pd.get_dummies(X['Breed2'])\n",
    "for i in range(308):\n",
    "    if i not in X_breed2.columns:\n",
    "        X_breed2[float(i)] = 0\n",
    "        \n",
    "X_breed = X_breed1 + X_breed2\n",
    "X_breed = X_breed.drop(columns=[0.0])\n",
    "\n",
    "X_full =  pd.concat([X,X_breed], axis=1)\n",
    "X_full = X_full.drop(columns = ['Breed1','Breed2'])"
   ]
  },
  {
   "cell_type": "code",
   "execution_count": 35,
   "metadata": {},
   "outputs": [],
   "source": [
    "#X_full.to_csv('dummies_breed.csv', index = False)"
   ]
  },
  {
   "cell_type": "code",
   "execution_count": null,
   "metadata": {},
   "outputs": [],
   "source": []
  }
 ],
 "metadata": {
  "kernelspec": {
   "display_name": "Python 3",
   "language": "python",
   "name": "python3"
  },
  "language_info": {
   "codemirror_mode": {
    "name": "ipython",
    "version": 3
   },
   "file_extension": ".py",
   "mimetype": "text/x-python",
   "name": "python",
   "nbconvert_exporter": "python",
   "pygments_lexer": "ipython3",
   "version": "3.6.8"
  }
 },
 "nbformat": 4,
 "nbformat_minor": 2
}
