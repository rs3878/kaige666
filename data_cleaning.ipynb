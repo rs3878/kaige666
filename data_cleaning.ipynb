{
 "cells": [
  {
   "cell_type": "code",
   "execution_count": 81,
   "metadata": {},
   "outputs": [],
   "source": [
    "import os\n",
    "import json\n",
    "import numpy as np\n",
    "import pandas as pd"
   ]
  },
  {
   "cell_type": "code",
   "execution_count": 82,
   "metadata": {},
   "outputs": [],
   "source": [
    "MAX_SPECIES = 307"
   ]
  },
  {
   "cell_type": "code",
   "execution_count": 83,
   "metadata": {},
   "outputs": [],
   "source": [
    "def read_json(path):\n",
    "    res = {'Magnitude': [], 'PetID': [], 'Score': []}\n",
    "    for file in os.listdir(path):\n",
    "        with open(os.path.join(path, file)) as f:\n",
    "            d = json.load(f)['documentSentiment']\n",
    "            res['Magnitude'].append(d['magnitude'])\n",
    "            res['PetID'].append(file.split('.', 1)[0])\n",
    "            res['Score'].append(d['score'])\n",
    "    return pd.DataFrame(res)"
   ]
  },
  {
   "cell_type": "code",
   "execution_count": 84,
   "metadata": {},
   "outputs": [],
   "source": [
    "def breed_counts(train):\n",
    "    counts = pd.DataFrame(train.groupby('Breed1').size(), columns=['Count']).reset_index()\n",
    "    joined1 = train.merge(counts, on='Breed1', how='left')\n",
    "#     joined1['IsPure'] = (joined1['Breed2'] == 0).astype(int)\n",
    "#     joined2 = joined1.merge(ranks.rename(columns={'Breed1': 'Breed2'}), on='Breed2', how='left') \\\n",
    "#         .drop(columns=['Breed2']) \\\n",
    "#         .rename(columns={'Rank': 'Breed2'})\n",
    "#     joined2['Breed2'] = joined2.apply(lambda row: 0 if row['IsPure'] else row['Breed2'], axis=1)\n",
    "#     return joined2.drop(columns=['IsPure']).fillna(MAX_SPECIES + 1)\n",
    "    joined1['IsMixed'] = (np.logical_or(joined1['Breed1'] == 0, joined1['Breed1'] == MAX_SPECIES)).astype(int)\n",
    "    return joined1.fillna(0)"
   ]
  },
  {
   "cell_type": "code",
   "execution_count": 85,
   "metadata": {},
   "outputs": [],
   "source": [
    "train = pd.read_csv('data/train.csv')\n",
    "sentiment = read_json('data/train_sentiment')\n",
    "train = train.merge(sentiment, how = 'left', on = 'PetID')\n",
    "# train = pd.read_csv('data/train.csv')\n",
    "# test = pd.read_csv('data/test/test.csv')\n",
    "\n",
    "train = train.drop(columns = ['Name', 'RescuerID', 'PetID', 'Description']).fillna(0)"
   ]
  },
  {
   "cell_type": "code",
   "execution_count": 86,
   "metadata": {
    "scrolled": true
   },
   "outputs": [
    {
     "data": {
      "text/plain": [
       "Type             False\n",
       "Age              False\n",
       "Breed1           False\n",
       "Breed2           False\n",
       "Gender           False\n",
       "Color1           False\n",
       "Color2           False\n",
       "Color3           False\n",
       "MaturitySize     False\n",
       "FurLength        False\n",
       "Vaccinated       False\n",
       "Dewormed         False\n",
       "Sterilized       False\n",
       "Health           False\n",
       "Quantity         False\n",
       "Fee              False\n",
       "State            False\n",
       "VideoAmt         False\n",
       "PhotoAmt         False\n",
       "AdoptionSpeed    False\n",
       "Magnitude        False\n",
       "Score            False\n",
       "dtype: bool"
      ]
     },
     "execution_count": 86,
     "metadata": {},
     "output_type": "execute_result"
    }
   ],
   "source": [
    "train.isna().any()"
   ]
  },
  {
   "cell_type": "code",
   "execution_count": 87,
   "metadata": {
    "scrolled": false
   },
   "outputs": [
    {
     "data": {
      "text/plain": [
       "Index(['Type', 'Age', 'Breed1', 'Breed2', 'Gender', 'Color1', 'Color2',\n",
       "       'Color3', 'MaturitySize', 'FurLength', 'Vaccinated', 'Dewormed',\n",
       "       'Sterilized', 'Health', 'Quantity', 'Fee', 'State', 'VideoAmt',\n",
       "       'PhotoAmt', 'AdoptionSpeed', 'Magnitude', 'Score'],\n",
       "      dtype='object')"
      ]
     },
     "execution_count": 87,
     "metadata": {},
     "output_type": "execute_result"
    }
   ],
   "source": [
    "train.columns"
   ]
  },
  {
   "cell_type": "code",
   "execution_count": 88,
   "metadata": {
    "scrolled": true
   },
   "outputs": [
    {
     "name": "stdout",
     "output_type": "stream",
     "text": [
      "Type: {1, 2}\n",
      "Age: {0, 1, 2, 3, 4, 5, 6, 7, 8, 9, 10, 11, 12, 13, 14, 15, 16, 17, 18, 19, 20, 21, 22, 23, 24, 25, 26, 27, 28, 29, 30, 31, 32, 33, 34, 35, 36, 37, 38, 39, 40, 41, 42, 43, 44, 45, 46, 47, 48, 49, 50, 51, 52, 53, 54, 55, 56, 57, 60, 61, 62, 63, 64, 65, 66, 67, 68, 69, 72, 73, 74, 75, 76, 77, 78, 80, 81, 82, 84, 85, 86, 87, 88, 89, 91, 92, 95, 96, 100, 102, 108, 112, 117, 120, 122, 123, 132, 135, 144, 147, 156, 168, 180, 212, 238, 255}\n",
      "Breed1: {0, 1, 3, 5, 7, 10, 11, 15, 16, 17, 18, 19, 20, 21, 23, 24, 25, 26, 31, 32, 39, 42, 44, 49, 50, 56, 58, 60, 61, 64, 65, 69, 70, 71, 72, 75, 76, 78, 81, 82, 83, 85, 88, 93, 97, 98, 99, 100, 102, 103, 105, 108, 109, 111, 114, 117, 119, 122, 123, 125, 128, 129, 130, 132, 139, 141, 143, 145, 146, 147, 148, 150, 152, 154, 155, 165, 167, 169, 173, 176, 178, 179, 182, 185, 187, 188, 189, 190, 192, 195, 197, 199, 200, 201, 202, 203, 204, 205, 206, 207, 212, 213, 214, 215, 217, 218, 224, 227, 228, 231, 232, 233, 234, 237, 239, 240, 241, 242, 243, 244, 245, 246, 247, 248, 249, 250, 251, 252, 253, 254, 256, 257, 260, 262, 263, 264, 265, 266, 267, 268, 269, 270, 271, 272, 273, 274, 276, 277, 279, 280, 281, 282, 283, 284, 285, 286, 287, 288, 289, 290, 292, 293, 294, 295, 296, 297, 298, 299, 300, 301, 302, 303, 304, 305, 306, 307}\n",
      "Breed2: {0, 1, 2, 4, 5, 10, 14, 16, 17, 18, 19, 20, 21, 24, 25, 26, 36, 39, 40, 44, 49, 50, 58, 60, 65, 69, 70, 72, 75, 76, 78, 83, 96, 98, 102, 103, 104, 109, 111, 115, 117, 119, 122, 128, 129, 130, 141, 146, 147, 150, 152, 155, 159, 167, 169, 173, 176, 178, 179, 182, 187, 188, 189, 190, 192, 195, 200, 201, 202, 203, 204, 205, 206, 207, 210, 212, 213, 218, 227, 228, 237, 239, 240, 241, 242, 243, 245, 246, 247, 248, 249, 250, 251, 252, 254, 256, 257, 260, 262, 263, 264, 265, 266, 267, 268, 270, 271, 272, 274, 276, 277, 278, 279, 282, 283, 284, 285, 288, 289, 290, 291, 292, 293, 294, 295, 296, 299, 300, 301, 302, 303, 304, 305, 306, 307}\n",
      "Gender: {1, 2, 3}\n",
      "Color1: {1, 2, 3, 4, 5, 6, 7}\n",
      "Color2: {0, 2, 3, 4, 5, 6, 7}\n",
      "Color3: {0, 3, 4, 5, 6, 7}\n",
      "MaturitySize: {1, 2, 3, 4}\n",
      "FurLength: {1, 2, 3}\n",
      "Vaccinated: {1, 2, 3}\n",
      "Dewormed: {1, 2, 3}\n",
      "Sterilized: {1, 2, 3}\n",
      "Health: {1, 2, 3}\n",
      "Quantity: {1, 2, 3, 4, 5, 6, 7, 8, 9, 10, 11, 12, 13, 14, 15, 16, 17, 18, 20}\n",
      "Fee: {0, 1, 2, 385, 5, 390, 135, 8, 9, 10, 650, 14, 15, 400, 270, 20, 150, 280, 25, 155, 30, 160, 800, 35, 550, 38, 40, 170, 299, 300, 45, 48, 688, 50, 180, 3000, 59, 60, 700, 188, 190, 320, 65, 450, 70, 200, 72, 330, 75, 80, 2000, 210, 599, 600, 89, 90, 88, 220, 350, 480, 99, 100, 1000, 235, 108, 750, 110, 115, 500, 499, 120, 250, 380, 125}\n",
      "State: {41367, 41345, 41415, 41324, 41325, 41326, 41327, 41361, 41330, 41332, 41335, 41336, 41401, 41342}\n",
      "VideoAmt: {0, 1, 2, 3, 4, 5, 6, 7, 8}\n",
      "PhotoAmt: {0.0, 1.0, 2.0, 3.0, 4.0, 5.0, 6.0, 7.0, 8.0, 9.0, 10.0, 11.0, 12.0, 13.0, 14.0, 15.0, 16.0, 17.0, 18.0, 19.0, 20.0, 21.0, 22.0, 23.0, 24.0, 25.0, 26.0, 27.0, 28.0, 29.0, 30.0}\n",
      "AdoptionSpeed: {0, 1, 2, 3, 4}\n",
      "Magnitude: {0.7, 0.5, 2.4, 3.7, 1.1, 0.8, 4.4, 2.9, 2.6, 3.4, 1.0, 0.0, 1.5, 2.5, 2.0, 9.2, 3.0, 13.7, 14.0, 3.5, 11.7, 4.0, 4.5, 19.6, 22.1, 25.0, 5.0, 5.5, 27.0, 24.5, 25.8, 6.5, 32.0, 6.0, 7.5, 7.0, 8.5, 8.0, 9.5, 9.0, 10.5, 10.0, 11.5, 11.0, 12.5, 12.0, 13.0, 13.5, 15.0, 15.5, 16.4, 16.1, 17.5, 19.0, 20.5, 1.9, 1.4, 3.9, 0.2, 4.9, 5.9, 5.4, 6.9, 6.4, 7.4, 7.9, 8.4, 8.9, 9.4, 9.9, 10.4, 10.9, 11.4, 11.9, 12.9, 12.4, 13.4, 13.9, 14.4, 2.8, 2.3, 15.4, 3.3, 3.8, 4.8, 1.8, 1.3, 4.3, 5.8, 5.3, 6.3, 6.8, 7.8, 7.3, 0.9, 0.6, 0.4, 8.7, 8.2, 8.3, 8.8, 9.8, 9.3, 9.7, 10.3, 10.8, 10.7, 1.7, 1.2, 11.2, 11.8, 11.3, 10.2, 12.3, 12.7, 12.2, 0.1, 13.8, 13.3, 13.2, 14.8, 14.7, 2.2, 2.7, 15.2, 3.2, 16.7, 16.8, 4.2, 4.7, 17.7, 5.7, 5.2, 18.2, 6.2, 6.7, 7.7, 7.2, 0.3, 4.6, 4.1, 5.1, 5.6, 6.1, 6.6, 7.6, 7.1, 1.6, 8.1, 8.6, 2.1, 9.6, 9.1, 3.1, 3.6, 10.1, 10.6, 11.6, 11.1, 12.6, 12.1, 13.6, 14.6}\n",
      "Score: {0.3, 0.9, 0.6, 0.2, -0.2, 0.0, 0.1, 0.8, 0.4, 0.5, -0.1, -0.5, -0.6, -0.9, 0.7, -0.7, -0.8, -0.3, -0.4}\n"
     ]
    }
   ],
   "source": [
    "for column in train.columns:\n",
    "    print(f'{column}: {set(train[column])}')"
   ]
  },
  {
   "cell_type": "code",
   "execution_count": 89,
   "metadata": {},
   "outputs": [],
   "source": [
    "train = breed_counts(train)"
   ]
  },
  {
   "cell_type": "code",
   "execution_count": 90,
   "metadata": {},
   "outputs": [],
   "source": [
    "train.to_csv('data/clean_train.csv')"
   ]
  },
  {
   "cell_type": "code",
   "execution_count": null,
   "metadata": {},
   "outputs": [],
   "source": []
  }
 ],
 "metadata": {
  "kernelspec": {
   "display_name": "Python 3",
   "language": "python",
   "name": "python3"
  },
  "language_info": {
   "codemirror_mode": {
    "name": "ipython",
    "version": 3
   },
   "file_extension": ".py",
   "mimetype": "text/x-python",
   "name": "python",
   "nbconvert_exporter": "python",
   "pygments_lexer": "ipython3",
   "version": "3.6.8"
  }
 },
 "nbformat": 4,
 "nbformat_minor": 2
}
